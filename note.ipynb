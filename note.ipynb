{
 "cells": [
  {
   "cell_type": "code",
   "execution_count": 4,
   "metadata": {},
   "outputs": [
    {
     "name": "stdout",
     "output_type": "stream",
     "text": [
      "1 2\n",
      "2 3\n",
      "1 5\n",
      "5 2\n",
      "5 6\n",
      "4 7\n"
     ]
    }
   ],
   "source": [
    "from collections import deque\n",
    "\n",
    "x = 7; y = 6\n",
    "graph = [[1, 2], [2, 3], [1, 5], [5, 2], [5, 6], [4, 7]]\n",
    "visited = [False]*x\n",
    "\n",
    "for a, b in graph:\n",
    "    print(a,b)"
   ]
  },
  {
   "cell_type": "code",
   "execution_count": 13,
   "metadata": {},
   "outputs": [
    {
     "name": "stdout",
     "output_type": "stream",
     "text": [
      "{3: 'R', 15: 'L', 17: 'R'}\n",
      "[3, 15, 17]\n"
     ]
    }
   ],
   "source": [
    "l = int(input())\n",
    "t = [list(map(str, input().split())) for _ in range(l)]\n",
    "trans = {}\n",
    "for k in range(l):\n",
    "    trans[int(t[k][0])] = t[k][1]\n",
    "    if trans[int(t[k][0])] == 'D':\n",
    "        trans[int(t[k][0])] = 'R'\n",
    "print(trans)\n",
    "print(sorted(trans))"
   ]
  },
  {
   "cell_type": "code",
   "execution_count": 17,
   "metadata": {},
   "outputs": [
    {
     "name": "stdout",
     "output_type": "stream",
     "text": [
      "[[2, 9], [1, 9], [1, 8], [1, 7], [1, 6], [1, 5]]\n",
      "[2, 9]\n"
     ]
    }
   ],
   "source": [
    "l = [[1, 5], [1, 6], [1, 7], [1, 8], [1, 9], [2, 9]]\n",
    "print(sorted(l, reverse=True))\n",
    "print(l.pop())"
   ]
  },
  {
   "cell_type": "code",
   "execution_count": 27,
   "metadata": {},
   "outputs": [
    {
     "name": "stdout",
     "output_type": "stream",
     "text": [
      "[('a', 'c'), ('a', 'd'), ('c', 'd')]\n"
     ]
    }
   ],
   "source": [
    "from itertools import combinations\n",
    "a = ['a','d','c']\n",
    "a = sorted(a)\n",
    "c = list(combinations(a,2))\n",
    "print(c)"
   ]
  },
  {
   "cell_type": "code",
   "execution_count": 29,
   "metadata": {},
   "outputs": [
    {
     "name": "stdout",
     "output_type": "stream",
     "text": [
      "y\n",
      "n\n",
      "n\n",
      "n\n",
      "n\n",
      "n\n",
      "n\n",
      "n\n",
      "n\n",
      "n\n",
      "y\n",
      "n\n",
      "n\n",
      "n\n",
      "n\n",
      "n\n",
      "y\n",
      "n\n",
      "n\n",
      "n\n"
     ]
    }
   ],
   "source": [
    "alpha_filter = ['a','e','i','o','u']\n",
    "s = ['asdf','wfdwd','afwg','efgh']\n",
    "for i in range(len(s)):\n",
    "    for j in alpha_filter:\n",
    "        if j in s[i]:\n",
    "            print('y')\n",
    "        else:\n",
    "            print('n')"
   ]
  },
  {
   "cell_type": "code",
   "execution_count": 34,
   "metadata": {},
   "outputs": [
    {
     "name": "stdout",
     "output_type": "stream",
     "text": [
      "a\n",
      "s\n",
      "d\n",
      "f\n"
     ]
    }
   ],
   "source": [
    "r = ['asdf','gwf','wgtfd']\n",
    "for i in range(4):\n",
    "    print(r[0][i])"
   ]
  },
  {
   "cell_type": "code",
   "execution_count": 35,
   "metadata": {},
   "outputs": [
    {
     "name": "stdout",
     "output_type": "stream",
     "text": [
      "[('A', 'B', 'C'), ('A', 'C', 'B'), ('B', 'A', 'C'), ('B', 'C', 'A'), ('C', 'A', 'B'), ('C', 'B', 'A')]\n"
     ]
    }
   ],
   "source": [
    "from itertools import permutations\n",
    "data = ['A','B','C']\n",
    "result = list(permutations(data,3))\n",
    "print(result)"
   ]
  },
  {
   "cell_type": "code",
   "execution_count": 36,
   "metadata": {},
   "outputs": [
    {
     "name": "stdout",
     "output_type": "stream",
     "text": [
      "[('A', 'B'), ('A', 'C'), ('B', 'C')]\n"
     ]
    }
   ],
   "source": [
    "## 2.combinations\n",
    "from itertools import combinations\n",
    "data = ['A','B','C']\n",
    "result = list(combinations(data,2))\n",
    "print(result)"
   ]
  },
  {
   "cell_type": "code",
   "execution_count": 40,
   "metadata": {},
   "outputs": [
    {
     "name": "stdout",
     "output_type": "stream",
     "text": [
      "[('A', 'A'), ('A', 'B'), ('A', 'C'), ('B', 'A'), ('B', 'B'), ('B', 'C'), ('C', 'A'), ('C', 'B'), ('C', 'C')]\n"
     ]
    }
   ],
   "source": [
    "## 3.product\n",
    "from itertools import product\n",
    "data = ['A','B','C']\n",
    "result = list(product(data,repeat=2))\n",
    "print(result)"
   ]
  },
  {
   "cell_type": "code",
   "execution_count": 41,
   "metadata": {},
   "outputs": [
    {
     "name": "stdout",
     "output_type": "stream",
     "text": [
      "[('A', 'A'), ('A', 'B'), ('A', 'C'), ('B', 'B'), ('B', 'C'), ('C', 'C')]\n"
     ]
    }
   ],
   "source": [
    "## 4.combinations_with_replacement\n",
    "from itertools import combinations_with_replacement\n",
    "data = ['A','B','C']\n",
    "result = list(combinations_with_replacement(data,2))\n",
    "print(result)"
   ]
  },
  {
   "cell_type": "code",
   "execution_count": 42,
   "metadata": {},
   "outputs": [
    {
     "name": "stdout",
     "output_type": "stream",
     "text": [
      "[0, 1, 2, 3, 4, 5, 6, 7, 8, 9]\n"
     ]
    }
   ],
   "source": [
    "## 예시1\n",
    "import heapq\n",
    "\n",
    "def heapsort(iterable):\n",
    "\th = []\n",
    "\tresult = []\n",
    "\t# 모든 원소를 차례대로 힙에 삽입\n",
    "\tfor value in iterable:\n",
    "\t\theapq.heappush(h, value)\n",
    "\t# 힙에 삽입된 모든 원소를 차례대로 꺼내어 답기\n",
    "\tfor _ in range(len(h)):\n",
    "\t\tresult.append(heapq.heappop(h))\n",
    "\treturn result\n",
    "\n",
    "result = heapsort([1,3,5,7,9,2,4,6,8,0])\n",
    "print(result)"
   ]
  },
  {
   "cell_type": "code",
   "execution_count": 45,
   "metadata": {},
   "outputs": [
    {
     "name": "stdout",
     "output_type": "stream",
     "text": [
      "2\n",
      "6\n"
     ]
    }
   ],
   "source": [
    "from bisect import bisect_left, bisect_right\n",
    "\n",
    "# 값이 [left_value, right_value]인 데이터의 개수를 반환하는 함수\n",
    "def count_by_range(a, left_value, right_value):\n",
    "    right_index = bisect_right(a,right_value)\n",
    "    left_index = bisect_left(a,left_value)\n",
    "    return right_index-left_index\n",
    "\n",
    "a = [1,2,3,3,3,3,4,4,8,9]\n",
    "# 값인 4인 데이터 개수 출력\n",
    "print(count_by_range(a, 4, 4)) # 2\n",
    "# 값이 [-1,3] 범위에 있는 데이터 개수 출력\n",
    "print(count_by_range(a, -1, 3)) # 6"
   ]
  },
  {
   "cell_type": "code",
   "execution_count": 46,
   "metadata": {},
   "outputs": [
    {
     "name": "stdout",
     "output_type": "stream",
     "text": [
      "3\n",
      "1\n",
      "{'red': 2, 'blue': 3, 'green': 1}\n"
     ]
    }
   ],
   "source": [
    "from collections import Counter\n",
    "\n",
    "counter = Counter(['red', 'blue', 'red', 'green', 'blue', 'blue'])\n",
    "\n",
    "print(counter['blue'])\n",
    "print(counter['green'])\n",
    "print(dict(counter))"
   ]
  },
  {
   "cell_type": "code",
   "execution_count": 43,
   "metadata": {},
   "outputs": [
    {
     "name": "stdout",
     "output_type": "stream",
     "text": [
      "[9, 8, 7, 6, 5, 4, 3, 2, 1, 0]\n"
     ]
    }
   ],
   "source": [
    "## 예시2\n",
    "import heapq\n",
    "\n",
    "def heapsort(iterable):\n",
    "    h = []\n",
    "    result = []\n",
    "    # 모든 원소를 차례대로 힙에 삽입\n",
    "    for value in iterable:\n",
    "        heapq.heappush(h, -value)\n",
    "    # 힙에 삽입된 모든 원소를 찰대로 꺼내어 담기\n",
    "    for _ in range(len(h)):\n",
    "        result.append(-heapq.heappop(h))\n",
    "    return result\n",
    "\n",
    "result = heapsort([1,3,5,7,9,2,4,6,8,0])\n",
    "print(result)"
   ]
  },
  {
   "cell_type": "code",
   "execution_count": 47,
   "metadata": {},
   "outputs": [
    {
     "name": "stdout",
     "output_type": "stream",
     "text": [
      "[[9, 5, 1], [10, 6, 2], [11, 7, 3], [12, 8, 4]]\n"
     ]
    }
   ],
   "source": [
    "def rotate_a_matrix_by_90_degree(a):\n",
    "    row_length = len(a)\n",
    "    col_length = len(a[0])\n",
    "\n",
    "    res = [[0]*row_length for _ in range(col_length)]\n",
    "    for r in range(row_length):\n",
    "        for c in range(col_length):\n",
    "            res[c][row_length-1-r] = a[r][c]\n",
    "    return res\n",
    "\n",
    "a = [\n",
    "    [1,2,3,4],\n",
    "    [5,6,7,8],\n",
    "    [9,10,11,12]\n",
    "]\n",
    "print(rotate_a_matrix_by_90_degree(a))"
   ]
  },
  {
   "cell_type": "code",
   "execution_count": 48,
   "metadata": {},
   "outputs": [
    {
     "name": "stdout",
     "output_type": "stream",
     "text": [
      "False\n",
      "True\n"
     ]
    }
   ],
   "source": [
    "def is_prime_number(x):\n",
    "    # 2부터 (x-1)까지의 모든 수를 확인\n",
    "    for i in range(2,x):\n",
    "        if x%i==0:\n",
    "            return False\n",
    "        return True\n",
    "    \n",
    "print(is_prime_number(4))\n",
    "print(is_prime_number(7))"
   ]
  },
  {
   "cell_type": "code",
   "execution_count": 49,
   "metadata": {},
   "outputs": [
    {
     "name": "stdout",
     "output_type": "stream",
     "text": [
      "2 3 5 7 11 13 17 19 23 29 31 37 41 43 47 53 59 61 67 71 73 79 83 89 97 101 103 107 109 113 127 131 137 139 149 151 157 163 167 173 179 181 191 193 197 199 211 223 227 229 233 239 241 251 257 263 269 271 277 281 283 293 307 311 313 317 331 337 347 349 353 359 367 373 379 383 389 397 401 409 419 421 431 433 439 443 449 457 461 463 467 479 487 491 499 503 509 521 523 541 547 557 563 569 571 577 587 593 599 601 607 613 617 619 631 641 643 647 653 659 661 673 677 683 691 701 709 719 727 733 739 743 751 757 761 769 773 787 797 809 811 821 823 827 829 839 853 857 859 863 877 881 883 887 907 911 919 929 937 941 947 953 967 971 977 983 991 997 "
     ]
    }
   ],
   "source": [
    "import math\n",
    "\n",
    "n = 1000 # 2부터 1000까지의 모든 수에 대하여 소수 판별\n",
    "array = [True for i in range(n+1)]\n",
    "array[0] = False # 1은 소수가 아니니까\n",
    "\n",
    "# 에라토스테네스의 체 알고리즘\n",
    "for i in range(2, int(math.sqrt(n))+1):\n",
    "    if array[i] == True:\n",
    "        # i를 제외한 i의 모든 배수 지우기\n",
    "        j = 2\n",
    "        while i*j <= n:\n",
    "            array[i*j] = False\n",
    "            j += 1\n",
    "\n",
    "# 모든 소수 출력\n",
    "for i in range(2, n+1): # 3에서 16까지이면 range(3,17)로 조정\n",
    "    if array[i]:\n",
    "        print(i, end=' ')\n"
   ]
  },
  {
   "cell_type": "code",
   "execution_count": 50,
   "metadata": {},
   "outputs": [
    {
     "name": "stdout",
     "output_type": "stream",
     "text": [
      "3\n"
     ]
    }
   ],
   "source": [
    "n = 5 # 데이터 개수\n",
    "m = 5 # 찾고자 하는 부분합\n",
    "data = [1,2,3,2,5] # 전체 수열\n",
    "\n",
    "count = 0\n",
    "interval_sum = 0\n",
    "end = 0\n",
    "\n",
    "for start in range(n):\n",
    "    # end를 가능한 만큼 이동시키기\n",
    "    while interval_sum < m and end < n:\n",
    "        interval_sum += data[end]\n",
    "        end += 1\n",
    "    # 부분합이 m일 때 카운트 증가\n",
    "    if interval_sum==m:\n",
    "        count += 1\n",
    "    interval_sum -= data[start]\n",
    "print(count)"
   ]
  },
  {
   "cell_type": "code",
   "execution_count": 51,
   "metadata": {},
   "outputs": [
    {
     "name": "stdout",
     "output_type": "stream",
     "text": [
      "1 2 3 4 5 6 8 "
     ]
    }
   ],
   "source": [
    "n, m = 3, 4\n",
    "a = [1, 3, 5]\n",
    "b = [2, 4, 6, 8]\n",
    "\n",
    "# 리스트 A와 B를 모두 담을 수 있는 크기의 결과 리스트 초기화 \n",
    "result = [0] * (n+m)\n",
    "i = 0; j = 0; k = 0\n",
    "\n",
    "# 모든 원소가 결과 리스트에 담길 때까지 반복\n",
    "while i < n or j < m:\n",
    "    # 리스트 B의 모든 원소가 처리되었거나, 리스트 A의 원소가 더 작을 때\n",
    "    if j >= m or (i < n and a[i] <= b[j]):\n",
    "        result[k] = a[i]\n",
    "        i += 1\n",
    "    # 리스트 A의 모든 원소가 처리되었거나, 리스트 B의 원소가 더 작을 때\n",
    "    else:\n",
    "        result[k] = b[j]\n",
    "        j += 1\n",
    "    k += 1\n",
    "\n",
    "# 결과 리스트 출력\n",
    "for i in result:\n",
    "    print(i, end=' ')"
   ]
  },
  {
   "cell_type": "code",
   "execution_count": 52,
   "metadata": {},
   "outputs": [
    {
     "name": "stdout",
     "output_type": "stream",
     "text": [
      "70\n"
     ]
    }
   ],
   "source": [
    "n = 5 # 데이터 개수\n",
    "data = [10,20,30,40,50]\n",
    "\n",
    "# 접두사 합 배열 계산\n",
    "sum_value = 0\n",
    "prefix_sum = [0]\n",
    "for i in data:\n",
    "    sum_value += i\n",
    "    prefix_sum.append(sum_value)\n",
    "\n",
    "# 구간 합 계산(3번째부터 4번째)\n",
    "left = 3; right = 4\n",
    "print(prefix_sum[right]-prefix_sum[left-1])"
   ]
  },
  {
   "cell_type": "code",
   "execution_count": 53,
   "metadata": {},
   "outputs": [
    {
     "name": "stdout",
     "output_type": "stream",
     "text": [
      "1 2 7 6 8 3 4 5 "
     ]
    }
   ],
   "source": [
    "# DFS\n",
    "def dfs(graph, v, visited):\n",
    "    # 현재 노드를 방문 처리\n",
    "    visited[v] = True\n",
    "    print(v, end=' ')\n",
    "    # 현재 노드와 연결된 다른 노드를 재귀적으로 방문\n",
    "    for i in graph[v]:\n",
    "        if not visited[i]:\n",
    "            dfs(graph, i, visited)\n",
    "# 각 노드가 연결된 정보를 리스트 자료형으로 표현(2차원 리스트)\n",
    "graph = [\n",
    "    [],\n",
    "    [2,3,8],\n",
    "    [1,7],\n",
    "    [1,4,5],\n",
    "    [3,5],\n",
    "    [3,4],\n",
    "    [7],\n",
    "    [2,6,8],\n",
    "    [1,7]\n",
    "]\n",
    "\n",
    "# 각 노드가 방문된 정보를 리스트 자료형으로 표현(1차원 리스트)\n",
    "visited = [False]*9 #노드 개수\n",
    "\n",
    "# 정의된 dfs 함수 호출\n",
    "dfs(graph, 1, visited)\n"
   ]
  },
  {
   "cell_type": "code",
   "execution_count": 3,
   "metadata": {},
   "outputs": [
    {
     "name": "stdout",
     "output_type": "stream",
     "text": [
      "41664\n"
     ]
    }
   ],
   "source": [
    "from itertools import combinations\n",
    "a = [0]*64\n",
    "print(len(list(combinations(a,3))))"
   ]
  },
  {
   "cell_type": "code",
   "execution_count": 6,
   "metadata": {},
   "outputs": [
    {
     "name": "stdout",
     "output_type": "stream",
     "text": [
      "0\n",
      "[1, 0, 0, 2, 1]\n"
     ]
    }
   ],
   "source": [
    "from collections import Counter\n",
    "a = [[0,0,1,1,2],[1,0,0,2,1],[0,0,4,2,1,]]\n",
    "print(a.count(0))"
   ]
  },
  {
   "cell_type": "code",
   "execution_count": null,
   "metadata": {},
   "outputs": [],
   "source": []
  },
  {
   "cell_type": "code",
   "execution_count": 1,
   "metadata": {},
   "outputs": [
    {
     "name": "stdout",
     "output_type": "stream",
     "text": [
      "1 2 3 8 7 4 5 6 "
     ]
    }
   ],
   "source": [
    "from collections import deque\n",
    "\n",
    "def bfs(graph, start, visited):\n",
    "    queue = deque([start])\n",
    "    # 현재 노드를 방문 처리\n",
    "    visited[start] = True\n",
    "    # 큐가 빌 때까지 반복\n",
    "    while queue:\n",
    "        # 큐에서 하나의 원소를 뽑아 출력\n",
    "        v = queue.popleft()\n",
    "        print(v, end=' ')\n",
    "        # 해당 원소와 연결된, 아직 방문하지 않은 원소들을 큐에 삽입\n",
    "        for i in graph[v]:\n",
    "            if not visited[i]:\n",
    "                queue.append(i)\n",
    "                visited[i] = True\n",
    "\n",
    "graph = [\n",
    "    [],\n",
    "    [2,3,8],\n",
    "    [1,7],\n",
    "    [1,4,5],\n",
    "    [3,5],\n",
    "    [3,4],\n",
    "    [7],\n",
    "    [2,6,8],\n",
    "    [1,7]\n",
    "]\n",
    "\n",
    "visited = [False]*9\n",
    "bfs(graph, 1, visited)"
   ]
  },
  {
   "cell_type": "code",
   "execution_count": 1,
   "metadata": {},
   "outputs": [
    {
     "name": "stdout",
     "output_type": "stream",
     "text": [
      "{1: [2, 3, 3], 2: [6]}\n"
     ]
    }
   ],
   "source": [
    "a = {}\n",
    "a[1] = [2,3]\n",
    "a[2] = [6]\n",
    "a[1].append(3)\n",
    "print(a)"
   ]
  },
  {
   "cell_type": "code",
   "execution_count": null,
   "metadata": {},
   "outputs": [],
   "source": []
  },
  {
   "cell_type": "code",
   "execution_count": 7,
   "metadata": {},
   "outputs": [
    {
     "name": "stdout",
     "output_type": "stream",
     "text": [
      "[1, 1]\n",
      "[1, 2]\n",
      "[1, 3]\n",
      "[2, 1]\n",
      "[2, 2]\n",
      "[2, 3]\n",
      "[3, 1]\n",
      "[3, 2]\n",
      "[3, 3]\n"
     ]
    }
   ],
   "source": [
    "n=3\n",
    "for i in range(1,n+1):\n",
    "    for j in range(1,n+1):\n",
    "        l = [i,j]\n",
    "        print(l)"
   ]
  },
  {
   "cell_type": "code",
   "execution_count": 11,
   "metadata": {},
   "outputs": [
    {
     "name": "stdout",
     "output_type": "stream",
     "text": [
      "True\n"
     ]
    }
   ],
   "source": [
    "i = {3:'R',15:'L'}\n",
    "j == 'R'\n",
    "print(i[3] in ['R','L'])\n",
    "if i[3]==j:\n",
    "    print('y')"
   ]
  },
  {
   "cell_type": "code",
   "execution_count": 3,
   "metadata": {},
   "outputs": [
    {
     "name": "stdout",
     "output_type": "stream",
     "text": [
      "{1: 5, 2: 4, 3: 6}\n",
      "[(2, 4), (1, 5), (3, 6)]\n",
      "4\n",
      "3\n",
      "[(1, 5), (3, 6)]\n"
     ]
    }
   ],
   "source": [
    "dic = {1:5,2:4,3:6}\n",
    "print(dic)\n",
    "dic = sorted(dic.items(), key=lambda x :x[1])\n",
    "print(dic)\n",
    "now = dic.pop(0)[1]\n",
    "print(now)\n",
    "print(dic[1][0])\n",
    "dic = list(dic)\n",
    "print(dic)"
   ]
  },
  {
   "cell_type": "code",
   "execution_count": 21,
   "metadata": {},
   "outputs": [
    {
     "data": {
      "text/plain": [
       "(3, 4)"
      ]
     },
     "execution_count": 21,
     "metadata": {},
     "output_type": "execute_result"
    }
   ],
   "source": [
    "def solution(n,direction):\n",
    "    direc_dict = {'R':1, 'L':-1, 'U':-1, 'D':1}\n",
    "    current = [1,1]\n",
    "\n",
    "    for i in direction:\n",
    "        if (0<current[0]<6) & (0<current[1]<6):\n",
    "            before = current.copy()\n",
    "            if i in ['R','L']:\n",
    "                current[1] += direc_dict[i]\n",
    "            elif i in ['U','D']:\n",
    "                current[0] += direc_dict[i]\n",
    "            #print('>>>',current)\n",
    "        else:\n",
    "            current = before.copy()\n",
    "            if i in ['R','L']:\n",
    "                current[1] += direc_dict[i]\n",
    "            elif i in ['U','D']:\n",
    "                current[0] += direc_dict[i]\n",
    "            #print('<<<',current)\n",
    "    current = tuple(current)\n",
    "    return current\n",
    "\n",
    "solution(5,['R','R','R','U','D','D'])"
   ]
  },
  {
   "cell_type": "code",
   "execution_count": 28,
   "metadata": {},
   "outputs": [
    {
     "name": "stdout",
     "output_type": "stream",
     "text": [
      "['0', '1', '2', '3', '4', '5', '6', '7', '8', '9', '10', '11', '12', '13', '14', '15', '16', '17', '18', '19', '20', '21', '22', '23', '24', '25', '26', '27', '28', '29', '30', '31', '32', '33', '34', '35', '36', '37', '38', '39', '40', '41', '42', '43', '44', '45', '46', '47', '48', '49', '50', '51', '52', '53', '54', '55', '56', '57', '58', '59']\n",
      "15\n"
     ]
    }
   ],
   "source": [
    "a = list(str(i) for i in range(0,60))\n",
    "print(a)\n",
    "count = 0\n",
    "for i in range(len(a)):\n",
    "    if '3' in a[i]:\n",
    "        count += 1\n",
    "print(count)"
   ]
  },
  {
   "cell_type": "code",
   "execution_count": 10,
   "metadata": {},
   "outputs": [
    {
     "name": "stdout",
     "output_type": "stream",
     "text": [
      "{1: [2, 3]}\n"
     ]
    }
   ],
   "source": [
    "dic = dict()\n",
    "dic[1] = [2]\n",
    "dic[1].append(3)\n",
    "print(dic)"
   ]
  },
  {
   "cell_type": "code",
   "execution_count": 2,
   "metadata": {},
   "outputs": [
    {
     "name": "stdout",
     "output_type": "stream",
     "text": [
      "[1, 2] [-1, 2] [0, 4]\n"
     ]
    }
   ],
   "source": [
    "a = [1,2]\n",
    "b = [-1,2]\n",
    "temp = [a+b for a,b in zip(a,b)]\n",
    "print(a,b,temp)\n"
   ]
  },
  {
   "cell_type": "code",
   "execution_count": null,
   "metadata": {},
   "outputs": [],
   "source": [
    "column = int(ord(input_data[0])) - int(ord('a')) +1"
   ]
  },
  {
   "cell_type": "code",
   "execution_count": 14,
   "metadata": {},
   "outputs": [
    {
     "ename": "ValueError",
     "evalue": "invalid literal for int() with base 10: 'C'",
     "output_type": "error",
     "traceback": [
      "\u001b[1;31m---------------------------------------------------------------------------\u001b[0m",
      "\u001b[1;31mValueError\u001b[0m                                Traceback (most recent call last)",
      "\u001b[1;32mc:\\vscodeworkspace\\note.ipynb Cell 8\u001b[0m in \u001b[0;36m<cell line: 3>\u001b[1;34m()\u001b[0m\n\u001b[0;32m      <a href='vscode-notebook-cell:/c%3A/vscodeworkspace/note.ipynb#X15sZmlsZQ%3D%3D?line=0'>1</a>\u001b[0m a \u001b[39m=\u001b[39m \u001b[39m'\u001b[39m\u001b[39mK1KA5CB7\u001b[39m\u001b[39m'\u001b[39m\n\u001b[0;32m      <a href='vscode-notebook-cell:/c%3A/vscodeworkspace/note.ipynb#X15sZmlsZQ%3D%3D?line=1'>2</a>\u001b[0m a \u001b[39m=\u001b[39m \u001b[39msorted\u001b[39m(a)\n\u001b[1;32m----> <a href='vscode-notebook-cell:/c%3A/vscodeworkspace/note.ipynb#X15sZmlsZQ%3D%3D?line=2'>3</a>\u001b[0m \u001b[39mprint\u001b[39m(\u001b[39mint\u001b[39;49m(a[\u001b[39m5\u001b[39;49m]))\n",
      "\u001b[1;31mValueError\u001b[0m: invalid literal for int() with base 10: 'C'"
     ]
    }
   ],
   "source": [
    "a = 'K1KA5CB7'\n",
    "a = sorted(a)\n",
    "print(int(a[5]))"
   ]
  },
  {
   "cell_type": "code",
   "execution_count": 4,
   "metadata": {},
   "outputs": [
    {
     "name": "stdout",
     "output_type": "stream",
     "text": [
      "['b', 'b', 'a', 'c', 'c', 'c']\n",
      "1\n",
      "{'a', 'b', 'c'}\n"
     ]
    }
   ],
   "source": [
    "s = \"bbaccc\"\n",
    "s = list(s)\n",
    "print(s)\n",
    "print(s.count('a'))\n",
    "print(set(s))"
   ]
  },
  {
   "cell_type": "code",
   "execution_count": 9,
   "metadata": {},
   "outputs": [
    {
     "name": "stdout",
     "output_type": "stream",
     "text": [
      "123402 3\n",
      "[1, 2, 3]\n"
     ]
    }
   ],
   "source": [
    "score = input()\n",
    "length = int(len(score)/2)\n",
    "left = list(map(int,score[:length]))\n",
    "print(score, length)\n",
    "print(left)\n",
    "#right = list(score[len(score)/2:])"
   ]
  },
  {
   "cell_type": "code",
   "execution_count": 11,
   "metadata": {},
   "outputs": [
    {
     "name": "stdout",
     "output_type": "stream",
     "text": [
      "{1: [2, 5], 2: [1, 3, 5], 3: [2], 5: [1, 2, 6], 6: [5], 4: [7], 7: [4]}\n"
     ]
    }
   ],
   "source": [
    "dic_graph = dict()\n",
    "for a,b in graph:\n",
    "    if a not in dic_graph:\n",
    "        dic_graph[a] = [b]\n",
    "    else:\n",
    "        dic_graph[a].append(b)\n",
    "    if b not in dic_graph:\n",
    "        dic_graph[b] = [a]\n",
    "    else:\n",
    "        dic_graph[b].append(a)\n",
    "    #dic_graph[a].append(b) if (a in dic_graph) else (dic_graph[a] = b)\n",
    "    #dic_graph[b].append(a) if (b in dic_graph) else (dic_graph[b] = a)\n",
    "print(dic_graph)"
   ]
  },
  {
   "cell_type": "code",
   "execution_count": 7,
   "metadata": {},
   "outputs": [
    {
     "name": "stdout",
     "output_type": "stream",
     "text": [
      "[['O', 'O', 'X', 'X', 'O', 'X', 'X', 'O', 'O', 'O'], ['O', 'O', 'X', 'X', 'O', 'X', 'X', 'O', 'O', 'O']]\n",
      "['O', 'O', 'X', 'X', 'O', 'X', 'X', 'O', 'O', 'O']\n",
      "O\n"
     ]
    }
   ],
   "source": [
    "n = [list(input()) for _ in range(2)]\n",
    "print(n)\n",
    "print(n[0])\n",
    "print(n[0][0])"
   ]
  },
  {
   "cell_type": "code",
   "execution_count": 5,
   "metadata": {},
   "outputs": [
    {
     "name": "stdout",
     "output_type": "stream",
     "text": [
      "{0: [1, 2, 3, 4, 5, 6, 7, 8, 9, 10, 11, 12, 13, 14], 1: [1, 2, 3, 4, 5, 6, 7, 8, 9, 10, 11, 12, 13, 14]}\n",
      "6\n",
      "2\n"
     ]
    }
   ],
   "source": [
    "people_list = {0:[i+1 for i in range(14)]}\n",
    "people_list[1] = [1, 2, 3, 4, 5, 6, 7, 8, 9, 10, 11, 12, 13, 14]\n",
    "print(people_list)\n",
    "print(sum(people_list[1][:3]))\n",
    "print(people_list[1][2-1])"
   ]
  },
  {
   "cell_type": "code",
   "execution_count": 4,
   "metadata": {},
   "outputs": [
    {
     "name": "stdout",
     "output_type": "stream",
     "text": [
      "5\n"
     ]
    }
   ],
   "source": [
    "cnt = 0\n",
    "cnt = cnt + (1260//500)\n",
    "cnt = cnt + (260//100)\n",
    "cnt = cnt + (60//50)\n",
    "print(cnt)"
   ]
  }
 ],
 "metadata": {
  "kernelspec": {
   "display_name": "base",
   "language": "python",
   "name": "python3"
  },
  "language_info": {
   "codemirror_mode": {
    "name": "ipython",
    "version": 3
   },
   "file_extension": ".py",
   "mimetype": "text/x-python",
   "name": "python",
   "nbconvert_exporter": "python",
   "pygments_lexer": "ipython3",
   "version": "3.9.12"
  },
  "orig_nbformat": 4,
  "vscode": {
   "interpreter": {
    "hash": "a077222d77dfe082b8f1dd562ad70e458ac2ab76993a0b248ab0476e32e9e8dd"
   }
  }
 },
 "nbformat": 4,
 "nbformat_minor": 2
}
