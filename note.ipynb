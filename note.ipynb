{
 "cells": [
  {
   "cell_type": "code",
   "execution_count": 4,
   "metadata": {},
   "outputs": [
    {
     "name": "stdout",
     "output_type": "stream",
     "text": [
      "1 2\n",
      "2 3\n",
      "1 5\n",
      "5 2\n",
      "5 6\n",
      "4 7\n"
     ]
    }
   ],
   "source": [
    "from collections import deque\n",
    "\n",
    "x = 7; y = 6\n",
    "graph = [[1, 2], [2, 3], [1, 5], [5, 2], [5, 6], [4, 7]]\n",
    "visited = [False]*x\n",
    "\n",
    "for a, b in graph:\n",
    "    print(a,b)"
   ]
  },
  {
   "cell_type": "code",
   "execution_count": 10,
   "metadata": {},
   "outputs": [
    {
     "name": "stdout",
     "output_type": "stream",
     "text": [
      "{1: [2, 3]}\n"
     ]
    }
   ],
   "source": [
    "dic = dict()\n",
    "dic[1] = [2]\n",
    "dic[1].append(3)\n",
    "print(dic)"
   ]
  },
  {
   "cell_type": "code",
   "execution_count": 11,
   "metadata": {},
   "outputs": [
    {
     "name": "stdout",
     "output_type": "stream",
     "text": [
      "{1: [2, 5], 2: [1, 3, 5], 3: [2], 5: [1, 2, 6], 6: [5], 4: [7], 7: [4]}\n"
     ]
    }
   ],
   "source": [
    "dic_graph = dict()\n",
    "for a,b in graph:\n",
    "    if a not in dic_graph:\n",
    "        dic_graph[a] = [b]\n",
    "    else:\n",
    "        dic_graph[a].append(b)\n",
    "    if b not in dic_graph:\n",
    "        dic_graph[b] = [a]\n",
    "    else:\n",
    "        dic_graph[b].append(a)\n",
    "    #dic_graph[a].append(b) if (a in dic_graph) else (dic_graph[a] = b)\n",
    "    #dic_graph[b].append(a) if (b in dic_graph) else (dic_graph[b] = a)\n",
    "print(dic_graph)"
   ]
  },
  {
   "cell_type": "code",
   "execution_count": 7,
   "metadata": {},
   "outputs": [
    {
     "name": "stdout",
     "output_type": "stream",
     "text": [
      "[['O', 'O', 'X', 'X', 'O', 'X', 'X', 'O', 'O', 'O'], ['O', 'O', 'X', 'X', 'O', 'X', 'X', 'O', 'O', 'O']]\n",
      "['O', 'O', 'X', 'X', 'O', 'X', 'X', 'O', 'O', 'O']\n",
      "O\n"
     ]
    }
   ],
   "source": [
    "n = [list(input()) for _ in range(2)]\n",
    "print(n)\n",
    "print(n[0])\n",
    "print(n[0][0])"
   ]
  },
  {
   "cell_type": "code",
   "execution_count": 5,
   "metadata": {},
   "outputs": [
    {
     "name": "stdout",
     "output_type": "stream",
     "text": [
      "{0: [1, 2, 3, 4, 5, 6, 7, 8, 9, 10, 11, 12, 13, 14], 1: [1, 2, 3, 4, 5, 6, 7, 8, 9, 10, 11, 12, 13, 14]}\n",
      "6\n",
      "2\n"
     ]
    }
   ],
   "source": [
    "people_list = {0:[i+1 for i in range(14)]}\n",
    "people_list[1] = [1, 2, 3, 4, 5, 6, 7, 8, 9, 10, 11, 12, 13, 14]\n",
    "print(people_list)\n",
    "print(sum(people_list[1][:3]))\n",
    "print(people_list[1][2-1])"
   ]
  },
  {
   "cell_type": "code",
   "execution_count": 4,
   "metadata": {},
   "outputs": [
    {
     "name": "stdout",
     "output_type": "stream",
     "text": [
      "5\n"
     ]
    }
   ],
   "source": [
    "cnt = 0\n",
    "cnt = cnt + (1260//500)\n",
    "cnt = cnt + (260//100)\n",
    "cnt = cnt + (60//50)\n",
    "print(cnt)"
   ]
  }
 ],
 "metadata": {
  "kernelspec": {
   "display_name": "base",
   "language": "python",
   "name": "python3"
  },
  "language_info": {
   "codemirror_mode": {
    "name": "ipython",
    "version": 3
   },
   "file_extension": ".py",
   "mimetype": "text/x-python",
   "name": "python",
   "nbconvert_exporter": "python",
   "pygments_lexer": "ipython3",
   "version": "3.9.12"
  },
  "orig_nbformat": 4,
  "vscode": {
   "interpreter": {
    "hash": "a077222d77dfe082b8f1dd562ad70e458ac2ab76993a0b248ab0476e32e9e8dd"
   }
  }
 },
 "nbformat": 4,
 "nbformat_minor": 2
}
